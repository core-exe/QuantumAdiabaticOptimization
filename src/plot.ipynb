{
 "cells": [
  {
   "cell_type": "code",
   "execution_count": 71,
   "metadata": {},
   "outputs": [],
   "source": [
    "import numpy as np\n",
    "from projectq.ops import QubitOperator\n",
    "from QuantumAnnealing.GroverSearch import GroverSearchProblem\n",
    "from QuantumAnnealing.QACircuitDriver import TimeHamitonian, QADriver"
   ]
  },
  {
   "cell_type": "code",
   "execution_count": 72,
   "metadata": {},
   "outputs": [],
   "source": [
    "class FourierTrojectory:\n",
    "\n",
    "    def __init__(self, mags, time_end, b):\n",
    "        self.mags = mags\n",
    "        self.time_end = time_end\n",
    "        self.b = b\n",
    "    \n",
    "    def value(self, t):\n",
    "        r = t/self.time_end\n",
    "        s = r\n",
    "        for m in range(len(self.b)):\n",
    "            s += self.b[m]*np.sin((m+1)*r*np.pi)\n",
    "        return self.mags[0]*(1-s)+self.mags[1]*s"
   ]
  },
  {
   "cell_type": "code",
   "execution_count": 73,
   "metadata": {},
   "outputs": [
    {
     "name": "stdout",
     "output_type": "stream",
     "text": [
      "[-0.1441881510361327, 0.1468141617959961, -0.11987021631948974, -0.10941559013087723, 0.03496046926672386, -0.00997377084934975]\n"
     ]
    }
   ],
   "source": [
    "b_dict = { 'b_1': 0.1441881510361327,\n",
    "  'b_2': 0.1468141617959961,\n",
    "  'b_3': 0.11987021631948974,\n",
    "  'b_4': -0.10941559013087723,\n",
    "  'b_5': -0.03496046926672386,\n",
    "  'b_6': -0.00997377084934975}\n",
    "b = [x for x in b_dict.values()]\n",
    "print(b)\n"
   ]
  },
  {
   "cell_type": "code",
   "execution_count": 74,
   "metadata": {},
   "outputs": [],
   "source": [
    "reward_list = []"
   ]
  },
  {
   "cell_type": "code",
   "execution_count": 75,
   "metadata": {},
   "outputs": [
    {
     "name": "stdout",
     "output_type": "stream",
     "text": [
      "0.39257221288594357\n"
     ]
    }
   ],
   "source": [
    "t = 62.2\n",
    "target = np.random.randint(0, 2, (4,))\n",
    "problem = GroverSearchProblem(4, target)\n",
    "hamit_start = QubitOperator('') * 0\n",
    "for i in range(4):\n",
    "    hamit_start += QubitOperator('X{}'.format(i), 1/4)\n",
    "hamit = [\n",
    "    TimeHamitonian(problem.final_hamit, FourierTrojectory((0,1), 62.2, b)),\n",
    "    TimeHamitonian(hamit_start, FourierTrojectory((1,0), 62.2, b))\n",
    "]\n",
    "driver = QADriver(4, hamit, 0.2, t, [0]*4)\n",
    "reward = 1 - problem.loss(driver.simulate()[0])\n",
    "print(reward)\n",
    "reward_list.append(reward)"
   ]
  }
 ],
 "metadata": {
  "interpreter": {
   "hash": "40d3a090f54c6569ab1632332b64b2c03c39dcf918b08424e98f38b5ae0af88f"
  },
  "kernelspec": {
   "display_name": "Python 3.7.3 64-bit ('base': conda)",
   "name": "python3"
  },
  "language_info": {
   "codemirror_mode": {
    "name": "ipython",
    "version": 3
   },
   "file_extension": ".py",
   "mimetype": "text/x-python",
   "name": "python",
   "nbconvert_exporter": "python",
   "pygments_lexer": "ipython3",
   "version": "3.7.3"
  },
  "orig_nbformat": 4
 },
 "nbformat": 4,
 "nbformat_minor": 2
}
