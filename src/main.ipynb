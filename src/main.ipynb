{
 "cells": [
  {
   "cell_type": "code",
   "execution_count": null,
   "metadata": {},
   "outputs": [],
   "source": [
    "from black_box import FourierBlackBox\n",
    "from bayes_opt import BayesianOptimization\n",
    "from QuantumAnnealing.Three_SAT import get_3sat_problem\n",
    "from QuantumAnnealing.GroverSearch import get_gs_problem"
   ]
  },
  {
   "cell_type": "code",
   "execution_count": null,
   "metadata": {},
   "outputs": [],
   "source": [
    "black_box_class = FourierBlackBox(get_gs_problem, \n",
    "                                  n_qubit=6, \n",
    "                                  cutoff=6, \n",
    "                                  time_final=124.4, \n",
    "                                  time_step=0.2, \n",
    "                                  pround=(-0.1, 0.1), \n",
    "                                  num_sample=1)"
   ]
  },
  {
   "cell_type": "code",
   "execution_count": null,
   "metadata": {},
   "outputs": [],
   "source": [
    "black_box_class.black_box_reward(**{'b_1': 0.0, \n",
    "                                    'b_2': 0.0, \n",
    "                                    'b_3': 0.0, \n",
    "                                    'b_4': 0.0, \n",
    "                                    'b_5': 0.0, \n",
    "                                    'b_6': 0.0})"
   ]
  },
  {
   "cell_type": "code",
   "execution_count": null,
   "metadata": {},
   "outputs": [],
   "source": [
    "black_box_class.black_box_reward(**{'b_1': 0.08408163378721933,\n",
    "                                    'b_2': -0.0407757470222901,\n",
    "                                    'b_3': 0.026204487752483074,\n",
    "                                    'b_4': 0.07767810478203888,\n",
    "                                    'b_5': 0.02595774375170129,\n",
    "                                    'b_6': 0.05813275206232704})"
   ]
  },
  {
   "cell_type": "code",
   "execution_count": null,
   "metadata": {},
   "outputs": [],
   "source": []
  },
  {
   "cell_type": "code",
   "execution_count": null,
   "metadata": {},
   "outputs": [],
   "source": [
    "optimizer = BayesianOptimization(black_box_class.black_box_reward, \n",
    "                                 black_box_class.prounds,\n",
    "                                 verbose=1)"
   ]
  },
  {
   "cell_type": "code",
   "execution_count": null,
   "metadata": {},
   "outputs": [],
   "source": [
    "optimizer.probe([0] * black_box_class.cutoff)\n",
    "optimizer.maximize(init_points=0, n_iter=1000)"
   ]
  },
  {
   "cell_type": "code",
   "execution_count": null,
   "metadata": {},
   "outputs": [],
   "source": [
    "optimizer.max"
   ]
  }
 ],
 "metadata": {
  "interpreter": {
   "hash": "40d3a090f54c6569ab1632332b64b2c03c39dcf918b08424e98f38b5ae0af88f"
  },
  "kernelspec": {
   "display_name": "Python 3.7.3 64-bit ('base': conda)",
   "name": "python3"
  },
  "language_info": {
   "codemirror_mode": {
    "name": "ipython",
    "version": 3
   },
   "file_extension": ".py",
   "mimetype": "text/x-python",
   "name": "python",
   "nbconvert_exporter": "python",
   "pygments_lexer": "ipython3",
   "version": "3.6.9"
  },
  "orig_nbformat": 4
 },
 "nbformat": 4,
 "nbformat_minor": 2
}
